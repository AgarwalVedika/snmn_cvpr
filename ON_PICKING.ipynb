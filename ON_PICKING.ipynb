{
 "cells": [
  {
   "cell_type": "code",
   "execution_count": 1,
   "metadata": {},
   "outputs": [],
   "source": [
    "import matplotlib\n",
    "import matplotlib.pyplot as plt\n",
    "import numpy as np\n",
    "import json\n",
    "import time\n",
    "#import seaborn\n",
    "# ./exp_vqa/data/imdb_r152_7x7_vqa_v2/imdb_v2_val2014.npy\n",
    "# Loading imdb from ./exp_vqa/data/imdb_r152_7x7_vqa_v2/imdb_v2_val2014.npy\n",
    "# Done\n",
    "# evaluation outputs will be saved to ./exp_vqa/eval_outputs_vqa_v2/vqa_v2_scratch/vqa_v2_OpenEnded_mscoco_val2014_vqa_v2_scratch_40000_results.json\n",
    "\n",
    "# snapshot file ./exp_vqa/tfmodel/vqa_v2_scratch/00040000"
   ]
  },
  {
   "cell_type": "code",
   "execution_count": 2,
   "metadata": {},
   "outputs": [],
   "source": [
    "import json\n",
    "file1 = './exp_vqa/eval_outputs_vqa_v2/vqa_v2_scratch/vqa_v2_OpenEnded_mscoco_val2014_vqa_v2_scratch_40000_results.json'\n",
    "file2 = './exp_vqa/eval_outputs_vqa_v2/vqa_v2_scratch/vqa_v2_OpenEnded_mscoco_edited_val2014_vqa_v2_scratch_40000_results.json'\n",
    "coco_json = './coco_cat_ids.json'\n",
    "file1_npy = './exp_vqa/data/imdb_r152_7x7_vqa_v2/imdb_v2_val2014.npy' \n",
    "file2_npy = './exp_vqa/data/imdb_r152_7x7_vqa_v2/imdb_v2_edited_val2014.npy'\n",
    "\n"
   ]
  },
  {
   "cell_type": "code",
   "execution_count": 245,
   "metadata": {},
   "outputs": [
    {
     "ename": "SyntaxError",
     "evalue": "invalid syntax (<ipython-input-245-5a5cc5f2ddda>, line 47)",
     "output_type": "error",
     "traceback": [
      "\u001b[0;36m  File \u001b[0;32m\"<ipython-input-245-5a5cc5f2ddda>\"\u001b[0;36m, line \u001b[0;32m47\u001b[0m\n\u001b[0;31m    return q_ids, pred_ans, softmax_scores, qid_ss_predans, img_ids, ques_str, all_answers, most_freq_ans, ques_type_data, ans_type_data\u001b[0m\n\u001b[0m         ^\u001b[0m\n\u001b[0;31mSyntaxError\u001b[0m\u001b[0;31m:\u001b[0m invalid syntax\n"
     ]
    }
   ],
   "source": [
    "def my_read(results_json, standard_q_json, standard_a_json=None):\n",
    "    with open(results_json) as file:\n",
    "        results_details = json.load(file)\n",
    "    with open(standard_q_json) as file:\n",
    "        details_ques = json.load(file)['questions']\n",
    "\n",
    "\n",
    "    q_ids = []\n",
    "    pred_ans = []\n",
    "    softmax_scores = []\n",
    "    img_ids = []\n",
    "    ques_str = []\n",
    "\n",
    "\n",
    "    for idx, details in enumerate(results_details):\n",
    "        q_ids.append(details['question_id'])\n",
    "        pred_ans.append(details['answer'])\n",
    "        softmax_scores.append(details['softmax_prob'])\n",
    "        img_ids.append(details_ques[idx]['image_id'])                      \n",
    "        ques_str.append(details_ques[idx]['question'])\n",
    "\n",
    "\n",
    "    qid_ss_predans = {}     # idea: from using the first set: create a dictionary for val2014- that maps q_id to softmax_score, predicted_ans\n",
    "    for idx, a in enumerate(q_ids):\n",
    "        qid_ss_predans[a] = (softmax_scores[idx], pred_ans[idx])\n",
    "\n",
    "\n",
    "    if standard_a_json is not None:  ### taking care if test split- as no answer file available for that\n",
    "\n",
    "        all_answers = []\n",
    "        most_freq_ans = []\n",
    "        ques_type_data = []\n",
    "        ans_type_data = []            \n",
    "\n",
    "        with open(standard_a_json) as file:\n",
    "            details_ann = json.load(file)['annotations']\n",
    "        for idx, details in enumerate(results_details):    ## or enumerate(q_file) or (a_file)\n",
    "            all_answers.append([ans['answer'] for i,ans in enumerate(details_ann[idx]['answers'])])          \n",
    "            most_freq_ans.append(details_ann[idx]['multiple_choice_answer'])\n",
    "            ques_type_data.append(details_ann[idx]['question_type'])\n",
    "            ans_type_data.append(details_ann[idx]['answer_type'])\n",
    "            matching_ans.append([item for item in all_answers[idx] if item == pred_ans[idx]] )\n",
    "            ans_score.append(min(1, float(len(matching_ans[idx]))/3) \n",
    "\n",
    "        return q_ids, pred_ans, softmax_scores, qid_ss_predans, img_ids, ques_str, all_answers, most_freq_ans, ques_type_data, ans_type_data\n",
    "    else:\n",
    "        return q_ids, pred_ans, softmax_scores, qid_ss_predans, img_ids, ques_str, [], [], [], []"
   ]
  },
  {
   "cell_type": "code",
   "execution_count": 44,
   "metadata": {},
   "outputs": [],
   "source": [
    "def my_read(results_json, standard_q_json, standard_a_json=None):\n",
    "    with open(results_json) as file:\n",
    "        results_details = json.load(file)\n",
    "    with open(standard_q_json) as file:\n",
    "        details_ques = json.load(file)['questions']\n",
    "\n",
    "\n",
    "    q_ids = []\n",
    "    pred_ans = []\n",
    "    softmax_scores = []\n",
    "    img_ids = []\n",
    "    ques_str = []\n",
    "\n",
    "\n",
    "    for idx, details in enumerate(results_details):\n",
    "        q_ids.append(details['question_id'])\n",
    "        pred_ans.append(details['answer'])\n",
    "        softmax_scores.append(details['softmax_prob'])\n",
    "        img_ids.append(details_ques[idx]['image_id'])                      \n",
    "        ques_str.append(details_ques[idx]['question'])\n",
    "\n",
    "\n",
    "    qid_ss_predans = {}     # idea: from using the first set: create a dictionary for val2014- that maps q_id to softmax_score, predicted_ans\n",
    "    for idx, a in enumerate(q_ids):\n",
    "        qid_ss_predans[a] = (softmax_scores[idx], pred_ans[idx])\n",
    "\n",
    "\n",
    "    if standard_a_json is not None:  ### taking care if test split- as no answer file available for that\n",
    "\n",
    "        all_answers = []\n",
    "        most_freq_ans = []\n",
    "        ques_type_data = []\n",
    "        ans_type_data = []            \n",
    "\n",
    "        with open(standard_a_json) as file:\n",
    "            details_ann = json.load(file)['annotations']\n",
    "        for idx, details in enumerate(results_details):    ## or enumerate(q_file) or (a_file)\n",
    "            all_answers.append([ans['answer'] for i,ans in enumerate(details_ann[idx]['answers'])])          \n",
    "            most_freq_ans.append(details_ann[idx]['multiple_choice_answer'])\n",
    "            ques_type_data.append(details_ann[idx]['question_type'])\n",
    "            ans_type_data.append(details_ann[idx]['answer_type'])\n",
    "\n",
    "        return q_ids, pred_ans, softmax_scores, qid_ss_predans, img_ids, ques_str, all_answers, most_freq_ans, ques_type_data, ans_type_data\n",
    "    else:\n",
    "        return q_ids, pred_ans, softmax_scores, qid_ss_predans, img_ids, ques_str, [], [], [], []"
   ]
  },
  {
   "cell_type": "code",
   "execution_count": 204,
   "metadata": {},
   "outputs": [
    {
     "data": {
      "text/plain": [
       "{'image_name': 'COCO_val2014_000000262148_000000000067',\n",
       " 'image_path': '/BS/vedika3/work/edited_snmn/snmn/exp_vqa/coco_dataset/images/val2014/COCO_val2014_000000262148_000000000067.jpg',\n",
       " 'image_id': '000000262148_000000000067',\n",
       " 'question_id': 262148000,\n",
       " 'feature_path': '/BS/vedika3/work/edited_snmn/snmn/exp_vqa/data/resnet152_c5_7x7/val2014/COCO_val2014_000000262148_000000000067.npy',\n",
       " 'question_str': 'Where is he looking?',\n",
       " 'question_tokens': ['where', 'is', 'he', 'looking', '?'],\n",
       " 'all_answers': ['down',\n",
       "  'down',\n",
       "  'at table',\n",
       "  'skateboard',\n",
       "  'down',\n",
       "  'table',\n",
       "  'down',\n",
       "  'down',\n",
       "  'down',\n",
       "  'down'],\n",
       " 'valid_answers': ['down',\n",
       "  'down',\n",
       "  'skateboard',\n",
       "  'down',\n",
       "  'table',\n",
       "  'down',\n",
       "  'down',\n",
       "  'down',\n",
       "  'down'],\n",
       " 'soft_score_inds': [96, 37, 73],\n",
       " 'soft_score_target': [1.0, 0.3333333333333333, 0.3333333333333333],\n",
       " 'gt_layout_tokens': ['_Find', '_Find', '_And', '_Describe']}"
      ]
     },
     "execution_count": 204,
     "metadata": {},
     "output_type": "execute_result"
    }
   ],
   "source": [
    "a[0]"
   ]
  },
  {
   "cell_type": "code",
   "execution_count": 215,
   "metadata": {},
   "outputs": [
    {
     "data": {
      "text/plain": [
       "'000000262148'"
      ]
     },
     "execution_count": 215,
     "metadata": {},
     "output_type": "execute_result"
    }
   ],
   "source": [
    "details_ques[0]['image_id'][0:12]"
   ]
  },
  {
   "cell_type": "code",
   "execution_count": 221,
   "metadata": {},
   "outputs": [],
   "source": [
    "ind = 0\n",
    "\n",
    "img_dir= '/BS/databases10/VQA_v2/Images/' +  TEST_SPLIT + '/'\n",
    "edit_img_dir = '/BS/vedika2/work/thesis/final_edited_VQA_v2/Images/' + TEST_SPLIT + '/'\n",
    "img_prefix_name = 'COCO_' + TEST_SPLIT + '_' \n",
    "\n",
    "#Showing images in opencv.\n",
    "org_img = img_dir + img_prefix_name + img_ids_edit_val[ind][0:12] + '.jpg'\n",
    "edit_img = edit_img_dir + img_prefix_name + img_ids_edit_val[ind] + '.jpg'"
   ]
  },
  {
   "cell_type": "code",
   "execution_count": 222,
   "metadata": {},
   "outputs": [
    {
     "data": {
      "text/plain": [
       "'/BS/databases10/VQA_v2/Images/val2014/COCO_val2014_000000262148.jpg'"
      ]
     },
     "execution_count": 222,
     "metadata": {},
     "output_type": "execute_result"
    }
   ],
   "source": [
    "org_img"
   ]
  },
  {
   "cell_type": "code",
   "execution_count": 223,
   "metadata": {},
   "outputs": [
    {
     "data": {
      "text/plain": [
       "'/BS/vedika2/work/thesis/final_edited_VQA_v2/Images/val2014/COCO_val2014_000000262148_000000000067.jpg'"
      ]
     },
     "execution_count": 223,
     "metadata": {},
     "output_type": "execute_result"
    }
   ],
   "source": [
    "edit_img"
   ]
  },
  {
   "cell_type": "code",
   "execution_count": 3,
   "metadata": {},
   "outputs": [],
   "source": [
    "#mapping_coco_dictionary:\n",
    "with open('coco_cat_ids.json') as file:\n",
    "    f = json.load(file)\n",
    "coco_dict = {}\n",
    "for idx,details in enumerate(f):\n",
    "    #print(details)\n",
    "    coco_dict[details['id']] = details['name']   "
   ]
  },
  {
   "cell_type": "code",
   "execution_count": 5,
   "metadata": {},
   "outputs": [],
   "source": [
    "a = np.load(file2_npy)\n",
    "b = np.load(file1_npy)"
   ]
  },
  {
   "cell_type": "code",
   "execution_count": 12,
   "metadata": {},
   "outputs": [],
   "source": [
    "TEST_SPLIT = 'val2014'\n",
    "\n",
    "results_val_json = '/BS/vedika2/work/snmn/exp_vqa/eval_outputs_vqa_v2/vqa_v2_scratch/vqa_v2_OpenEnded_mscoco_' + TEST_SPLIT + '_vqa_v2_scratch_40000_results.json'\n",
    "results_edited_val_json = '/BS/vedika2/work/snmn/exp_vqa/eval_outputs_vqa_v2/vqa_v2_scratch/vqa_v2_OpenEnded_mscoco_edited_' + TEST_SPLIT + '_vqa_v2_scratch_40000_results.json'\n",
    "\n",
    "\n",
    "\n",
    "standard_questions_val_json = '/BS/databases10/VQA_v2/Questions/v2_OpenEnded_mscoco_'  + TEST_SPLIT + '_questions.json'\n",
    "standard_questions_edited_val_json = '/BS/vedika2/work/thesis/final_edited_VQA_v2/Questions/v2_OpenEnded_mscoco_'  + TEST_SPLIT + '_questions.json'\n",
    "\n",
    "\n",
    "standard_annotations_val_json = '/BS/databases10/VQA_v2/Annotations/v2_mscoco_'  + TEST_SPLIT + '_annotations.json'\n",
    "standard_annotations_edited_val_json = '/BS/vedika2/work/thesis/final_edited_VQA_v2/Annotations/v2_mscoco_'  + TEST_SPLIT + '_annotations.json'"
   ]
  },
  {
   "cell_type": "code",
   "execution_count": 16,
   "metadata": {},
   "outputs": [],
   "source": [
    "with open(results_val_json) as f:\n",
    "    results_details = json.load(f)    "
   ]
  },
  {
   "cell_type": "code",
   "execution_count": 7,
   "metadata": {},
   "outputs": [],
   "source": [
    "with open(standard_annotations_edited_val_json) as f:\n",
    "    details_ann = json.load(f)['annotations']\n",
    "    \n",
    "with open(standard_questions_edited_val_json) as f:\n",
    "    details_ques = json.load(f)['questions']    "
   ]
  },
  {
   "cell_type": "code",
   "execution_count": null,
   "metadata": {},
   "outputs": [],
   "source": [
    "def my_read(results_json, standard_q_json, standard_a_json=None):\n",
    "    with open(results_json) as file:\n",
    "        results_details = json.load(file)\n",
    "    with open(standard_q_json) as file:\n",
    "        details_ques = json.load(file)['questions']\n",
    "\n",
    "\n",
    "    q_ids = []\n",
    "    pred_ans = []\n",
    "    softmax_scores = []\n",
    "    img_ids = []\n",
    "    ques_str = []\n",
    "\n",
    "\n",
    "    for idx, details in enumerate(results_details):\n",
    "        q_ids.append(details['question_id'])\n",
    "        pred_ans.append(details['answer'])\n",
    "        softmax_scores.append(details['softmax_prob'])\n",
    "        img_ids.append(details_ques[idx]['image_id'])                      \n",
    "        ques_str.append(details_ques[idx]['question'])\n",
    "\n",
    "\n",
    "    qid_ss_predans = {}     # idea: from using the first set: create a dictionary for val2014- that maps q_id to softmax_score, predicted_ans\n",
    "    for idx, a in enumerate(q_ids):\n",
    "        qid_ss_predans[a] = (softmax_scores[idx], pred_ans[idx])\n",
    "\n",
    "\n",
    "    if standard_a_json is not None:  ### taking care if test split- as no answer file available for that\n",
    "\n",
    "        all_answers = []\n",
    "        most_freq_ans = []\n",
    "        ques_type_data = []\n",
    "        ans_type_data = []  \n",
    "        matching_ans = []\n",
    "        ans_score_list = []\n",
    "\n",
    "        with open(standard_a_json) as file:\n",
    "            details_ann = json.load(file)['annotations']\n",
    "        for idx, details in enumerate(results_details):    ## or enumerate(q_file) or (a_file)\n",
    "            all_answers.append([ans['answer'] for i,ans in enumerate(details_ann[idx]['answers'])])          \n",
    "            most_freq_ans.append(details_ann[idx]['multiple_choice_answer'])\n",
    "            ques_type_data.append(details_ann[idx]['question_type'])\n",
    "            ans_type_data.append(details_ann[idx]['answer_type'])\n",
    "            matching_ans.append([item for item in all_answers[idx] if item == pred_ans[idx]] )\n",
    "            ans_score_list.append(min(1, float(len(matching_ans[idx]))/3))    ### acc = min(1, float(len(matching_ans))/3)\n",
    "        return q_ids, pred_ans, softmax_scores, qid_ss_predans, img_ids, ques_str, all_answers, most_freq_ans, ques_type_data, ans_type_data, ans_score_list\n",
    "    else:\n",
    "        return q_ids, pred_ans, softmax_scores, qid_ss_predans, img_ids, ques_str, [], [], [], [], []\n",
    "\n",
    "qid_val,pred_ans_val,soft_sc_val, qid_ss_predans_val, img_ids_val, ques_str_val, all_ans_val, most_freq_ans_val, ques_type_val, ans_type_val, ans_score_val = my_read(results_val_json,standard_questions_val_json,standard_annotations_val_json)\n",
    "qid_edit_val,pred_ans_edit_val,soft_sc_edit_val, qid_ss_predans_edit_val, img_ids_edit_val, ques_str_edit_val, all_ans_edit_val, most_freq_ans_edit_val, ques_type_edit_val, ans_type_edit_val, ans_score_edit_val = my_read(results_edited_val_json,standard_questions_edited_val_json,standard_annotations_edited_val_json)"
   ]
  },
  {
   "cell_type": "code",
   "execution_count": 205,
   "metadata": {},
   "outputs": [],
   "source": [
    "results_val = my_read(results_val_json,standard_questions_val_json,standard_annotations_val_json)\n",
    "results_edit_val = my_read(results_edited_val_json,standard_questions_edited_val_json,standard_annotations_edited_val_json)"
   ]
  },
  {
   "cell_type": "code",
   "execution_count": 67,
   "metadata": {},
   "outputs": [],
   "source": [
    "extended_pred_ans_val = [qid_ss_predans_val[q_id][1] for idx, q_id in enumerate(qid_edit_val)]\n",
    "extended_ss_val = [qid_ss_predans_val[q_id][0] for idx, q_id in enumerate(qid_edit_val)]\n",
    "diff_softmax = [soft_sc_edit_val[idx] - extended_ss_val[idx] for idx, q_id in enumerate(qid_edit_val)]"
   ]
  },
  {
   "cell_type": "code",
   "execution_count": 226,
   "metadata": {},
   "outputs": [
    {
     "data": {
      "text/plain": [
       "\"['down', 'down', 'at table', 'skateboard', 'down', 'table', 'down', 'down', 'down', 'down']\""
      ]
     },
     "execution_count": 226,
     "metadata": {},
     "output_type": "execute_result"
    }
   ],
   "source": [
    "str(all_ans_edit_val[0])"
   ]
  },
  {
   "cell_type": "code",
   "execution_count": 70,
   "metadata": {},
   "outputs": [],
   "source": [
    "def lists_diff_by_class_removed(class_id, image_ids_edit_val, dict_difference_softmax):  #class_id- 1 to 90\n",
    "    # indices = []\n",
    "    # for idx, i_id in enumerate(image_ids_edit_val):\n",
    "    #     if int(i_id)%100 == class_id:       ### get the last two number of q_id\n",
    "    #         indices.append(idx)\n",
    "\n",
    "    # sorted_diff_list_check = []\n",
    "    # #l2 = []\n",
    "    # for i in indices:\n",
    "    #     sorted_diff_list_check.append(dict_difference_softmax[i])\n",
    "    #     #l2.append(diff_sft[i])\n",
    "\n",
    "    indices = [i for i, i_id in enumerate(image_ids_edit_val) if int(i_id)%100 == class_id]\n",
    "    sorted_diff_list = [dict_difference_softmax[i] for i in indices]\n",
    "    print('number of IQA triplets related to object_id:', class_id, 'is', len(indices))\n",
    "    return(indices, sorted_diff_list)   ### check if these are true or not"
   ]
  },
  {
   "cell_type": "code",
   "execution_count": 80,
   "metadata": {},
   "outputs": [],
   "source": [
    "extended_pred_ans_val_2 = []\n",
    "dict_diff_softmax = {}\n",
    "for idx, q_id in enumerate(qid_edit_val):\n",
    "    dict_diff_softmax[idx] = {soft_sc_edit_val[idx] - qid_ss_predans_val[q_id][0]}\n",
    "    extended_pred_ans_val_2.append(qid_ss_predans_val[q_id][1])"
   ]
  },
  {
   "cell_type": "code",
   "execution_count": 81,
   "metadata": {},
   "outputs": [
    {
     "data": {
      "text/plain": [
       "True"
      ]
     },
     "execution_count": 81,
     "metadata": {},
     "output_type": "execute_result"
    }
   ],
   "source": [
    "extended_pred_ans_val_2 == extended_pred_ans_val"
   ]
  },
  {
   "cell_type": "code",
   "execution_count": 85,
   "metadata": {},
   "outputs": [
    {
     "data": {
      "text/plain": [
       "-0.00019121170043945312"
      ]
     },
     "execution_count": 85,
     "metadata": {},
     "output_type": "execute_result"
    }
   ],
   "source": [
    "idx = 292\n",
    "diff_softmax[idx]"
   ]
  },
  {
   "cell_type": "code",
   "execution_count": 86,
   "metadata": {},
   "outputs": [
    {
     "data": {
      "text/plain": [
       "{-0.00019121170043945312}"
      ]
     },
     "execution_count": 86,
     "metadata": {},
     "output_type": "execute_result"
    }
   ],
   "source": [
    "dict_diff_softmax[idx]"
   ]
  },
  {
   "cell_type": "code",
   "execution_count": 100,
   "metadata": {},
   "outputs": [],
   "source": [
    "CLASS_ID = 90\n",
    "chosen_indices = [idx for idx, i_id in enumerate(img_ids_edit_val) if int(i_id)%100 == class_id]\n",
    "chosen_diff_list = [diff_softmax[i] for i in chosen_indices]      ###[dict_diff_softmax[i] for i in indices]"
   ]
  },
  {
   "cell_type": "code",
   "execution_count": 101,
   "metadata": {},
   "outputs": [],
   "source": [
    "chosen_diff_list2 = [dict_diff_softmax[i] for i in chosen_indices]"
   ]
  },
  {
   "cell_type": "code",
   "execution_count": 102,
   "metadata": {},
   "outputs": [
    {
     "data": {
      "text/plain": [
       "1588"
      ]
     },
     "execution_count": 102,
     "metadata": {},
     "output_type": "execute_result"
    }
   ],
   "source": [
    "len(chosen_indices)"
   ]
  },
  {
   "cell_type": "code",
   "execution_count": 177,
   "metadata": {},
   "outputs": [],
   "source": [
    "def intersect(lst1, lst2): \n",
    "    if lst1:   ## if not empty\n",
    "        return(list(set(lst1).intersection(set(lst2))))\n",
    "    else:\n",
    "        return lst2 "
   ]
  },
  {
   "cell_type": "code",
   "execution_count": 225,
   "metadata": {},
   "outputs": [
    {
     "data": {
      "text/plain": [
       "'toothbrush'"
      ]
     },
     "execution_count": 225,
     "metadata": {},
     "output_type": "execute_result"
    }
   ],
   "source": [
    "coco_dict[90]"
   ]
  },
  {
   "cell_type": "code",
   "execution_count": 200,
   "metadata": {},
   "outputs": [],
   "source": [
    "CLASS_ID = 90\n",
    "QUES_TYPE = None\n",
    "ANS_TYPE = 'yes/no'"
   ]
  },
  {
   "cell_type": "code",
   "execution_count": 254,
   "metadata": {},
   "outputs": [],
   "source": [
    "def vqa_score_list(all_answers, pred_ans):\n",
    "    matching_ans = []\n",
    "    ans_score_list = []\n",
    "    for idx in range(len(pred_ans)):\n",
    "        matching_ans.append([item for item in all_answers[idx] if item == pred_ans[idx]] )\n",
    "        ans_score_list.append(min(1, float(len(matching_ans[idx]))/3))    ### acc = min(1, float(len(matching_ans))/3)\n",
    "    return ans_score_list"
   ]
  },
  {
   "cell_type": "code",
   "execution_count": 258,
   "metadata": {},
   "outputs": [],
   "source": [
    "check = vqa_score_list(all_ans_val, pred_ans_val)\n",
    "ans_score_val == check"
   ]
  },
  {
   "cell_type": "code",
   "execution_count": 261,
   "metadata": {},
   "outputs": [],
   "source": [
    "vqa_score_val = {}     # idea: from using the first set: create a dictionary for val2014- that maps q_id to softmax_score, predicted_ans\n",
    "for idx, a in enumerate(qid_val):\n",
    "    vqa_score_val[a] = ans_score_val[idx]\n",
    "extended_ans_score_val = [vqa_score_val[q_id] for idx, q_id in enumerate(qid_edit_val)]"
   ]
  },
  {
   "cell_type": "code",
   "execution_count": null,
   "metadata": {},
   "outputs": [],
   "source": [
    "CLASS_ID = 90\n",
    "QUES_TYPE = None\n",
    "ANS_TYPE = None"
   ]
  },
  {
   "cell_type": "code",
   "execution_count": 268,
   "metadata": {},
   "outputs": [
    {
     "name": "stdout",
     "output_type": "stream",
     "text": [
      "number of IQA triplets related to removed object: toothbrush is 1588\n",
      "number of IQA triplets related to answer type: yes/no is 199200\n",
      "number of IQA triplets in common: 665\n"
     ]
    }
   ],
   "source": [
    "chosen_indices_id = []\n",
    "chosen_indices_q  = []\n",
    "chosen_indices_a  = []\n",
    "common_indices = []\n",
    "if CLASS_ID is not None :\n",
    "    chosen_indices_id = [i for i, i_id in enumerate(img_ids_edit_val) if int(i_id)%100 == CLASS_ID]\n",
    "    common_indices = chosen_indices_id    \n",
    "    print('number of IQA triplets related to removed object:', coco_dict[CLASS_ID], 'is', len(chosen_indices_id))\n",
    "\n",
    "if QUES_TYPE is not None:\n",
    "    chosen_indices_q = [i for i, s in enumerate(ques_type_edit_val) if s == QUES_TYPE]\n",
    "    print('number of IQA triplets related to question_type:', QUES_TYPE , 'is', len(chosen_indices_q))\n",
    "    common_indices = intersect(chosen_indices_id, chosen_indices_q)\n",
    "\n",
    "if ANS_TYPE is not None:\n",
    "    chosen_indices_a = [i for i, s in enumerate(ans_type_edit_val) if s == ANS_TYPE]\n",
    "    print('number of IQA triplets related to answer type:', ANS_TYPE , 'is', len(chosen_indices_a))\n",
    "    common_indices = intersect(common_indices, chosen_indices_a)\n",
    "\n",
    "print('number of IQA triplets in common:', len(common_indices))\n",
    "chosen_diff_list = [diff_softmax[i] for i in common_indices] "
   ]
  },
  {
   "cell_type": "code",
   "execution_count": 298,
   "metadata": {},
   "outputs": [
    {
     "data": {
      "text/plain": [
       "61472"
      ]
     },
     "execution_count": 298,
     "metadata": {},
     "output_type": "execute_result"
    }
   ],
   "source": [
    "d_non_zero_indices[0]"
   ]
  },
  {
   "cell_type": "code",
   "execution_count": 299,
   "metadata": {},
   "outputs": [
    {
     "data": {
      "text/plain": [
       "0.0"
      ]
     },
     "execution_count": 299,
     "metadata": {},
     "output_type": "execute_result"
    }
   ],
   "source": [
    "extended_ans_score_val[61472]"
   ]
  },
  {
   "cell_type": "code",
   "execution_count": 300,
   "metadata": {},
   "outputs": [
    {
     "data": {
      "text/plain": [
       "1"
      ]
     },
     "execution_count": 300,
     "metadata": {},
     "output_type": "execute_result"
    }
   ],
   "source": [
    "ans_score_edit_val[61472]"
   ]
  },
  {
   "cell_type": "code",
   "execution_count": 305,
   "metadata": {},
   "outputs": [
    {
     "data": {
      "image/png": "[encoded data removed]",
      "text/plain": [
       "<Figure size 432x288 with 1 Axes>"
      ]
     },
     "metadata": {
      "needs_background": "light"
     },
     "output_type": "display_data"
    },
    {
     "name": "stdout",
     "output_type": "stream",
     "text": [
      "number of substantial points that have a non-zero vqa_score_difference= 39\n"
     ]
    },
    {
     "data": {
      "image/png": "[encoded data removed]",
      "text/plain": [
       "<Figure size 432x288 with 1 Axes>"
      ]
     },
     "metadata": {
      "needs_background": "light"
     },
     "output_type": "display_data"
    },
    {
     "name": "stdout",
     "output_type": "stream",
     "text": [
      "nature of points after editing, number of points= 39\n"
     ]
    },
    {
     "data": {
      "image/png": "[encoded data removed]",
      "text/plain": [
       "<Figure size 432x288 with 1 Axes>"
      ]
     },
     "metadata": {
      "needs_background": "light"
     },
     "output_type": "display_data"
    },
    {
     "name": "stdout",
     "output_type": "stream",
     "text": [
      "nature of points before editing, number of points= 39\n"
     ]
    }
   ],
   "source": [
    "chosen_indices = common_indices\n",
    "vqa_score_list_before_editing = [extended_ans_score_val[i] for i in chosen_indices]   ## 1 = true, 0 = false\n",
    "vqa_score_list_after_editing = [ans_score_edit_val[i] for i in chosen_indices]\n",
    "\n",
    "# ##two lists of comparisons:extended_ans_score_val; ans_score_edit_valt\n",
    "# ## sample figure\n",
    "# fig = plt.figure();\n",
    "# ax = plt.subplot();\n",
    "# cax = ax.scatter(chosen_indices, chosen_diff_list)\n",
    "# plt.show() \n",
    "\n",
    "# fig = plt.figure();\n",
    "# ax = plt.subplot();\n",
    "# cax = ax.scatter(chosen_indices, vqa_score_list_before_editing)\n",
    "# plt.show()            #### ans 1,0.66,0.33,0\n",
    "\n",
    "\n",
    "# fig = plt.figure();\n",
    "# ax = plt.subplot();\n",
    "# cax = ax.scatter(chosen_indices, vqa_score_list_after_editing)\n",
    "# plt.show() \n",
    "\n",
    "diff_vqa_score_list_after_before = [ans_score_edit_val[i] - extended_ans_score_val[i] for i in chosen_indices]\n",
    "\n",
    "d_non_zero = [i for i in diff_vqa_score_list_after_before if i!= 0]\n",
    "d_non_zero_indices = [ i for idx, i in enumerate(chosen_indices) if diff_vqa_score_list_after_before[idx]!= 0]\n",
    "d_nz_before = [extended_ans_score_val[i] for i in d_non_zero_indices]\n",
    "d_nz_after = [ans_score_edit_val[i] for i in d_non_zero_indices]\n",
    "\n",
    "# d_nz_indices = []\n",
    "# d_nz_before = []\n",
    "# d_nz_after = []\n",
    "# for idx, i in enumerate(chosen_indices):\n",
    "#     if diff_vqa_score_list_after_before[idx]!= 0:\n",
    "#         d_nz_indices.append(i)\n",
    "#         d_nz_before.append(extended_ans_score_val[i])\n",
    "#         d_nz_after.append(ans_score_edit_val[i])\n",
    "\n",
    "# ## visulaize the difference- so for which there is a diff in score\n",
    "# fig = plt.figure();\n",
    "# ax = plt.subplot();\n",
    "# cax = ax.scatter(chosen_indices,diff_vqa_score_list_after_before)\n",
    "# plt.show() \n",
    "\n",
    "fig = plt.figure();\n",
    "ax = plt.subplot();\n",
    "cax = ax.scatter(d_non_zero_indices , d_non_zero)\n",
    "plt.show() \n",
    "print('number of substantial points that have a non-zero vqa_score_difference=', len(d_non_zero))\n",
    "\n",
    "fig = plt.figure();\n",
    "ax = plt.subplot();\n",
    "cax = ax.scatter(d_non_zero_indices , d_nz_after)\n",
    "plt.show() \n",
    "print('nature of points after editing, number of points=', len(d_nz_after))\n",
    "\n",
    "fig = plt.figure();\n",
    "ax = plt.subplot();\n",
    "cax = ax.scatter(d_non_zero_indices , d_nz_before)\n",
    "plt.show() \n",
    "print('nature of points before editing, number of points=', len(d_nz_before))"
   ]
  },
  {
   "cell_type": "code",
   "execution_count": 318,
   "metadata": {},
   "outputs": [
    {
     "name": "stdout",
     "output_type": "stream",
     "text": [
      "0.0 ------------------- 1\n",
      "0.33 ------------------- 1\n",
      "1 ------------------- 0.0\n",
      "1 ------------------- 0.33\n",
      "0.33 ------------------- 1\n",
      "1 ------------------- 0.0\n",
      "1 ------------------- 0.0\n",
      "1 ------------------- 0.33\n",
      "0.0 ------------------- 1\n",
      "0.0 ------------------- 1\n",
      "1 ------------------- 0.0\n",
      "1 ------------------- 0.33\n",
      "0.0 ------------------- 1\n",
      "0.67 ------------------- 1\n",
      "0.0 ------------------- 1\n",
      "1 ------------------- 0.0\n",
      "1 ------------------- 0.0\n",
      "1 ------------------- 0.67\n",
      "1 ------------------- 0.33\n",
      "1 ------------------- 0.67\n",
      "0.0 ------------------- 1\n",
      "1 ------------------- 0.33\n",
      "0.0 ------------------- 1\n",
      "1 ------------------- 0.0\n",
      "1 ------------------- 0.0\n",
      "0.67 ------------------- 1\n",
      "1 ------------------- 0.67\n",
      "1 ------------------- 0.0\n",
      "1 ------------------- 0.0\n",
      "1 ------------------- 0.0\n",
      "0.67 ------------------- 1\n",
      "1 ------------------- 0.0\n",
      "1 ------------------- 0.0\n",
      "1 ------------------- 0.0\n",
      "0.67 ------------------- 1\n",
      "0.0 ------------------- 1\n",
      "1 ------------------- 0.0\n",
      "1 ------------------- 0.33\n",
      "1 ------------------- 0.0\n"
     ]
    }
   ],
   "source": [
    "for i in range(len(d_nz_before)):\n",
    "    print (round(d_nz_before[i],2), '-------------------' , round(d_nz_after[i],2))"
   ]
  },
  {
   "cell_type": "code",
   "execution_count": null,
   "metadata": {},
   "outputs": [],
   "source": []
  }
 ],
 "metadata": {
  "kernelspec": {
   "display_name": "Python 3",
   "language": "python",
   "name": "python3"
  },
  "language_info": {
   "codemirror_mode": {
    "name": "ipython",
    "version": 3
   },
   "file_extension": ".py",
   "mimetype": "text/x-python",
   "name": "python",
   "nbconvert_exporter": "python",
   "pygments_lexer": "ipython3",
   "version": "3.6.8"
  }
 },
 "nbformat": 4,
 "nbformat_minor": 2
}
