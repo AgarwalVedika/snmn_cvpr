{
 "cells": [
  {
   "cell_type": "code",
   "execution_count": 186,
   "metadata": {},
   "outputs": [],
   "source": [
    "import json\n",
    "from pycocotools.coco import COCO\n",
    "import time"
   ]
  },
  {
   "cell_type": "code",
   "execution_count": 192,
   "metadata": {},
   "outputs": [],
   "source": [
    "ann_coco_file_val = '/BS/databases/coco/annotations/instances_val2014.json'\n",
    "tagged_q_file_val = 'tagged_val2014_questions.json'\n",
    "tagged_a_file_val = 'tagged_val2014_answers.json'\n",
    "op_file_val = 'coco_classes_val_2014_images.json'"
   ]
  },
  {
   "cell_type": "code",
   "execution_count": 193,
   "metadata": {},
   "outputs": [],
   "source": [
    "ann_coco_file_train = '/BS/databases/coco/annotations/instances_train2014.json'\n",
    "tagged_q_file_train = 'tagged_train2014_questions.json'\n",
    "tagged_a_file_train = 'tagged_train2014_answers.json'\n",
    "op_file_train = 'coco_classes_train_2014_images.json'"
   ]
  },
  {
   "cell_type": "code",
   "execution_count": 194,
   "metadata": {},
   "outputs": [],
   "source": [
    "tagged_q_test_file = 'tagged_test_questions.json'\n",
    "tagged_q_test_dev_file = 'tagged_test_dev_questions.json'\n",
    "op_file_test = 'coco_classes_test_images.json'\n",
    "op_file_test_dev = 'coco_classes_test_dev_images.json'"
   ]
  },
  {
   "cell_type": "code",
   "execution_count": 195,
   "metadata": {},
   "outputs": [],
   "source": [
    "def ready_json_coco_map(tagged_q_file, ann_coco_file, op_filename ):\n",
    "    start = time.time();\n",
    "    with open(tagged_q_file) as f:\n",
    "        tagged_q = json.load(f)['questions']\n",
    "    # getting list of images in the val-set\n",
    "    file_data = {}\n",
    "    image_ids = []\n",
    "    for idx, question in enumerate(tagged_q):\n",
    "        image_ids.append(question['image_id'])    \n",
    "    classes_img_all = []\n",
    "    coco = COCO(ann_coco_file) \n",
    "    for image_id in image_ids:\n",
    "        ann_id_list = coco.getAnnIds(image_id) \n",
    "        classes_img = []\n",
    "        for each_class_id in ann_id_list:\n",
    "            #print(each_class_id)\n",
    "            for details in coco.loadAnns(each_class_id):\n",
    "                classes_img.append(details['category_id'])\n",
    "        classes_img_all.append(classes_img)\n",
    "    file_data['image_ids']= image_ids\n",
    "    file_data['classes_ids_img'] = classes_img_all\n",
    "    with open(op_filename, 'w') as f:\n",
    "        json.dump(file_data, f)\n",
    "    print(time.time()-start)"
   ]
  },
  {
   "cell_type": "code",
   "execution_count": 196,
   "metadata": {},
   "outputs": [
    {
     "name": "stdout",
     "output_type": "stream",
     "text": [
      "loading annotations into memory...\n",
      "Done (t=10.02s)\n",
      "creating index...\n",
      "index created!\n",
      "17.941532373428345\n",
      "loading annotations into memory...\n",
      "Done (t=4.80s)\n",
      "creating index...\n",
      "index created!\n",
      "8.486322402954102\n"
     ]
    }
   ],
   "source": [
    "ready_json_coco_map(tagged_q_file_train,ann_coco_file_train, op_file_train)\n",
    "ready_json_coco_map(tagged_q_file_val,ann_coco_file_val, op_file_val)"
   ]
  },
  {
   "cell_type": "code",
   "execution_count": 51,
   "metadata": {},
   "outputs": [],
   "source": [
    "for answer in tagged_a:\n",
    "    if (answer['question_type'] == 'why is the') :\n",
    "        print(answer) "
   ]
  },
  {
   "cell_type": "code",
   "execution_count": 52,
   "metadata": {},
   "outputs": [
    {
     "data": {
      "text/plain": [
       "{'image_id': 262148,\n",
       " 'question': 'Where is he looking?',\n",
       " 'question_id': 262148000,\n",
       " 'nouns_q': ['he'],\n",
       " 'nouns_q_COCO': ['person'],\n",
       " 'nouns_q_COCO_stuff': []}"
      ]
     },
     "execution_count": 52,
     "metadata": {},
     "output_type": "execute_result"
    }
   ],
   "source": [
    "tagged_q[0]"
   ]
  },
  {
   "cell_type": "code",
   "execution_count": 53,
   "metadata": {},
   "outputs": [
    {
     "data": {
      "text/plain": [
       "{'image_id': 262148,\n",
       " 'question_type': 'none of the above',\n",
       " 'answer_type': 'other',\n",
       " 'question_id': 262148000,\n",
       " 'answers': ['down',\n",
       "  'down',\n",
       "  'at table',\n",
       "  'skateboard',\n",
       "  'down',\n",
       "  'table',\n",
       "  'down',\n",
       "  'down',\n",
       "  'down',\n",
       "  'down'],\n",
       " 'ans_match_COCO': ['skateboard'],\n",
       " 'ans_match_COCO_stuff': ['table']}"
      ]
     },
     "execution_count": 53,
     "metadata": {},
     "output_type": "execute_result"
    }
   ],
   "source": [
    "tagged_a[0]"
   ]
  }
 ],
 "metadata": {
  "kernelspec": {
   "display_name": "Python 3",
   "language": "python",
   "name": "python3"
  },
  "language_info": {
   "codemirror_mode": {
    "name": "ipython",
    "version": 3
   },
   "file_extension": ".py",
   "mimetype": "text/x-python",
   "name": "python",
   "nbconvert_exporter": "python",
   "pygments_lexer": "ipython3",
   "version": "3.6.8"
  }
 },
 "nbformat": 4,
 "nbformat_minor": 2
}
