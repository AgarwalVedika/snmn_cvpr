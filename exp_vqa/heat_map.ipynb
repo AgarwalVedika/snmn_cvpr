{
 "cells": [
  {
   "cell_type": "code",
   "execution_count": 1,
   "metadata": {},
   "outputs": [],
   "source": [
    "import matplotlib\n",
    "import matplotlib.pyplot as plt\n",
    "import numpy as np\n",
    "import json\n",
    "import time\n",
    "import ipdb\n",
    "import cv2\n",
    "import os\n",
    "import pickle\n",
    "import nltk\n",
    "import time\n",
    "import pylab as plot\n",
    "import matplotlib.patches as mpatches\n",
    "## set seeds\n",
    "from utils_picking import my_read_old, intersect, round_percent, get_indices_diff_list_suffix, vqa_score_list\n",
    "import random\n",
    "random.seed(1234)\n",
    "import numpy as np; np.random.seed(0)\n",
    "import seaborn as sns; sns.set()"
   ]
  },
  {
   "cell_type": "code",
   "execution_count": 2,
   "metadata": {},
   "outputs": [],
   "source": [
    "coco_json = '/BS/vedika2/work/snmn/coco_cat_ids.json'\n",
    "with open(coco_json) as file:\n",
    "    coco_f = json.load(file)\n",
    "coco_dict = {}\n",
    "for idx, details in enumerate(coco_f):\n",
    "    # print(details)\n",
    "    coco_dict[details['id']] = details['name']\n",
    "coco_dict_inv = {}\n",
    "for idx, details in enumerate(coco_f):\n",
    "    # print(details)\n",
    "    coco_dict_inv[details['name']] = details['id']\n",
    "\n",
    "ques_type_file = '/BS/vedika3/work/VQA_helper_tools_official/QuestionTypes/mscoco_question_types.txt'\n",
    "with open(ques_type_file) as f:\n",
    "    ques_type_off = f.read().splitlines()\n",
    "    \n",
    "ans_type_off = ['yes/no', 'number', 'other']"
   ]
  },
  {
   "cell_type": "code",
   "execution_count": 3,
   "metadata": {},
   "outputs": [
    {
     "data": {
      "text/plain": [
       "['yes/no', 'number', 'other']"
      ]
     },
     "execution_count": 3,
     "metadata": {},
     "output_type": "execute_result"
    }
   ],
   "source": [
    "ans_type_off"
   ]
  },
  {
   "cell_type": "code",
   "execution_count": null,
   "metadata": {},
   "outputs": [],
   "source": []
  }
 ],
 "metadata": {
  "kernelspec": {
   "display_name": "Python 3",
   "language": "python",
   "name": "python3"
  },
  "language_info": {
   "codemirror_mode": {
    "name": "ipython",
    "version": 3
   },
   "file_extension": ".py",
   "mimetype": "text/x-python",
   "name": "python",
   "nbconvert_exporter": "python",
   "pygments_lexer": "ipython3",
   "version": "3.6.8"
  }
 },
 "nbformat": 4,
 "nbformat_minor": 2
}
